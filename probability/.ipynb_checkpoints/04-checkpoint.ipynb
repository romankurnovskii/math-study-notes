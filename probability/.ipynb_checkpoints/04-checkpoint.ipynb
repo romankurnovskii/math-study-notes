{
 "cells": [
  {
   "cell_type": "code",
   "execution_count": 9,
   "metadata": {},
   "outputs": [],
   "source": [
    "import numpy as np"
   ]
  },
  {
   "cell_type": "code",
   "execution_count": null,
   "metadata": {},
   "outputs": [],
   "source": [
    "Случайная непрерывная величина A имеет равномерное распределение на промежутке (200, 800].\n",
    "Найдите ее среднее значение и дисперсию."
   ]
  },
  {
   "cell_type": "markdown",
   "metadata": {},
   "source": [
    "$M(X) = \\frac{a + b}{2}$"
   ]
  },
  {
   "cell_type": "code",
   "execution_count": 17,
   "metadata": {},
   "outputs": [],
   "source": [
    "m = np.array([200,800])"
   ]
  },
  {
   "cell_type": "code",
   "execution_count": 27,
   "metadata": {},
   "outputs": [
    {
     "name": "stdout",
     "output_type": "stream",
     "text": [
      "sred: 500.5 dispers: 29950.0\n"
     ]
    }
   ],
   "source": [
    "#среднее\n",
    "sred = ((200+1)+800)/2\n",
    "\n",
    "#dispers\n",
    "sum=0\n",
    "for i in range(201,801):\n",
    "    sum += (i-sred)**2\n",
    "res = sum / (800-(200-1))\n",
    "\n",
    "print('sred:',sred, 'dispers:',res)"
   ]
  },
  {
   "cell_type": "markdown",
   "metadata": {},
   "source": [
    "О случайной непрерывной равномерно распределенной величине B известно, что ее дисперсия равна 0.2.\n",
    "Можно ли найти правую границу величины B и ее среднее значение зная, что левая граница равна 0.5?\n",
    "Если да, найдите ее."
   ]
  },
  {
   "cell_type": "code",
   "execution_count": 29,
   "metadata": {},
   "outputs": [],
   "source": [
    "disp = 0.2\n",
    "left = 0.5\n",
    "right='?'"
   ]
  },
  {
   "cell_type": "raw",
   "metadata": {},
   "source": [
    "Непрерывная случайная величина X распределена нормально и задана плотностью распределения\n",
    "f(x) = (1 / (4 * sqrt(2*pi))) * (exp(-((x+2)**2) / 32))\n",
    "Найдите:\n",
    "а). M(X)\n",
    "б). D(X)\n",
    "в). std(X) (среднее квадратичное отклонение)"
   ]
  },
  {
   "cell_type": "markdown",
   "metadata": {},
   "source": [
    "$f(x) = \\frac{1}{\\sigma \\cdot \\sqrt{2 \\cdot \\mu}} \\cdot e^{-\\frac{(x - \\mu)^2}{2 \\sigma^2}}$"
   ]
  },
  {
   "cell_type": "markdown",
   "metadata": {},
   "source": [
    "$f(x) = \\frac{1}{4*\\sqrt{(2*pi)}}*{\\exp{((-{{x+2}^2}) / 32))}}$"
   ]
  },
  {
   "cell_type": "markdown",
   "metadata": {},
   "source": [
    "sigma=4, а = -2\n",
    "\n",
    "а) $M(X) = -2$\n",
    "\n",
    "б) $D(X) = 16$\n",
    "\n",
    "в) $\\sigma = 4$"
   ]
  },
  {
   "cell_type": "raw",
   "metadata": {},
   "source": [
    "Рост взрослого населения города X имеет нормальное распределение.\n",
    "Причем, средний рост равен 174 см, а среднее квадратичное отклонение равно 8 см.\n",
    "Какова вероятность того, что случайным образом выбранный взрослый человек имеет рост:\n",
    "а). больше 182 см\n",
    "б). больше 190 см\n",
    "в). от 166 см до 190 см\n",
    "г). от 166 см до 182 см\n",
    "д). от 158 см до 190 см\n",
    "е). не выше 150 см или не ниже 190 см\n",
    "ё). не выше 150 см или не ниже 198 см\n",
    "ж). ниже 166 см."
   ]
  },
  {
   "cell_type": "raw",
   "metadata": {},
   "source": [
    "а) 174 + 8 = 182 (в пределах 1-й сигмы)\n",
    "1 сигма от 174-8 до 174+8\n",
    "1 сигма : [166;182]\n",
    "по таблице 1-я сигма = 68%\n",
    "\n",
    "P(>182) = (100-68)/2 = 16%\n",
    "\n",
    "б) 190см - 2-я сигма\n",
    "P(>190) = (100% - 95.4%)/2 = 2.3%\n",
    "\n",
    "в). от 166 см до 190 см\n",
    "(166 - 174) / 8 = -1\n",
    "(190 - 174) / 8 = 2\n",
    "P(166<x<190) = 0.97725 - 0.15866 = 81%\n",
    "\n",
    "г). от 166 см до 182 см\n",
    "68%\n",
    "\n",
    "д). от 158 см до 190 см\n",
    "95.4%\n",
    "\n",
    "е). не выше 150 см или не ниже 190 см\n",
    "0.28%/2 + 2.3% = 2.44%\n",
    "\n",
    "ё). не выше 150 см или не ниже 198 см\n",
    "0.28%\n",
    "\n",
    "ж). ниже 166 см.\n",
    "16%"
   ]
  },
  {
   "cell_type": "raw",
   "metadata": {},
   "source": [
    "На сколько сигм (средних квадратичных отклонений) отклоняется рост человека, равный 190 см, от\n",
    "математического ожидания роста в популяции, в которой M(X) = 178 см и D(X) = 25 кв.см?"
   ]
  },
  {
   "cell_type": "raw",
   "metadata": {},
   "source": [
    "D(X) = 25\n",
    "D(X) = сигма^2 = 12.5\n",
    "\n",
    "res = 12.5 / 5 = 2.4"
   ]
  }
 ],
 "metadata": {
  "kernelspec": {
   "display_name": "Python 3",
   "language": "python",
   "name": "python3"
  },
  "language_info": {
   "codemirror_mode": {
    "name": "ipython",
    "version": 3
   },
   "file_extension": ".py",
   "mimetype": "text/x-python",
   "name": "python",
   "nbconvert_exporter": "python",
   "pygments_lexer": "ipython3",
   "version": "3.8.3"
  }
 },
 "nbformat": 4,
 "nbformat_minor": 4
}
