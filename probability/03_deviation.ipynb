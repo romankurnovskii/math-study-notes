{
 "cells": [
  {
   "cell_type": "markdown",
   "metadata": {},
   "source": [
    "Даны значения зарплат из выборки выпускников: 100, 80, 75, 77, 89, 33, 45, 25, 65, 17, 30, 24, 57, 55, 70, 75, 65, 84, 90, 150. Посчитать (желательно без использования статистических методов наподобие std, var, mean) среднее арифметическое, среднее квадратичное отклонение, смещенную и несмещенную оценки дисперсий для данной выборки."
   ]
  },
  {
   "cell_type": "code",
   "execution_count": 1,
   "metadata": {},
   "outputs": [],
   "source": [
    "import numpy as np"
   ]
  },
  {
   "cell_type": "code",
   "execution_count": 2,
   "metadata": {},
   "outputs": [],
   "source": [
    "m = np.array([100, 80, 75, 77, 89, 33, 45, 25, 65, 17, 30, 24, 57, 55, 70, 75, 65, 84, 90, 150])"
   ]
  },
  {
   "cell_type": "code",
   "execution_count": 5,
   "metadata": {},
   "outputs": [
    {
     "data": {
      "text/plain": [
       "950.11"
      ]
     },
     "execution_count": 5,
     "metadata": {},
     "output_type": "execute_result"
    }
   ],
   "source": [
    "m.var()"
   ]
  },
  {
   "cell_type": "code",
   "execution_count": 23,
   "metadata": {},
   "outputs": [
    {
     "name": "stdout",
     "output_type": "stream",
     "text": [
      "65.3\n"
     ]
    }
   ],
   "source": [
    "# среднее арифметическое m.mean()\n",
    "def calc_average(array):\n",
    "    sum = 0\n",
    "    for i in array:\n",
    "        sum += i\n",
    "    return sum / len(array)\n",
    "\n",
    "def calc_average_v2(array):\n",
    "    return sum(array)/len(array)\n",
    "\n",
    "average = calc_average(m)\n",
    "print(average)"
   ]
  },
  {
   "cell_type": "code",
   "execution_count": 22,
   "metadata": {},
   "outputs": [],
   "source": [
    "# смещенную и несмещенную оценки дисперсий\n",
    "\n",
    "# Дисперсия смещенная\n",
    "def calc_dispersion_shifted(array):\n",
    "    ds = 0\n",
    "    for i in array:\n",
    "        ds += (i - average)**2\n",
    "        return ds/len(array)\n",
    "\n",
    "\n",
    "# Дисперсия смещенная\n",
    "def calc_dispersion_unbiased(array):\n",
    "    ds = 0\n",
    "    return ds/(len(array)-1)"
   ]
  },
  {
   "cell_type": "code",
   "execution_count": 20,
   "metadata": {},
   "outputs": [],
   "source": [
    "# среднее квадратичное отклонение (сигма) m.std()\n",
    "\n",
    "#несмещенная оценка\n",
    "def calc_standard_deviation_unbiased(array):\n",
    "    return (calc_dispersion_shifted(array))**(1/2)\n",
    "\n",
    "#смещенная оценка\n",
    "def calc_standard_deviation_unbiased(array):\n",
    "    return (calc_dispersion_unbiased(array))**(1/2)\n"
   ]
  },
  {
   "cell_type": "markdown",
   "metadata": {},
   "source": [
    "В первом ящике находится 8 мячей, из которых 5 - белые. Во втором ящике - 12 мячей, из которых 5 белых. Из первого ящика вытаскивают случайным образом 2 мяча, из второго - 4. Какова вероятность того, что 3 мяча белые?"
   ]
  },
  {
   "cell_type": "code",
   "execution_count": 25,
   "metadata": {},
   "outputs": [],
   "source": [
    "from math import factorial\n",
    "from math import exp"
   ]
  },
  {
   "cell_type": "code",
   "execution_count": 26,
   "metadata": {},
   "outputs": [
    {
     "data": {
      "text/plain": [
       "0.3686868686868687"
      ]
     },
     "execution_count": 26,
     "metadata": {},
     "output_type": "execute_result"
    }
   ],
   "source": [
    "# находим сочетания\n",
    "\n",
    "\n",
    "# Сочетание\n",
    "def combinations(n, k):\n",
    "    return int(factorial(n) / (factorial(k) * factorial(n - k)))\n",
    "\n",
    "\n",
    "n1 = 8 # количество мячей в первом ящике\n",
    "n2 = 12 # количество мячей во втором ящике\n",
    "k1 = 5 # количество белых мячей в первом ящике\n",
    "k2 = 5 # количество белых мячей во втором ящике\n",
    "\n",
    "\n",
    "# 2 белых из 1го ящица И 1 белый из 2го ящика\n",
    "p1 = combinations(5, 2) / combinations(8, 2) * (combinations(5, 1) * combinations(7, 3)) / combinations(12, 4)\n",
    "\n",
    "# 1 белый из 1го ящиуа И 2 белых из 2го ящика\n",
    "p2 = (combinations(5, 1) * combinations(3, 1)) / combinations(8, 2) * (combinations(5, 2) * combinations(7, 2)) / combinations(12, 4)\n",
    "\n",
    "# 0 белых из 1го ящиуа И 3 белых из 2го ящика\n",
    "p3 = combinations(3, 2) / combinations(8, 2) * (combinations(5, 3) * combinations(7, 1)) / combinations(12, 4)\n",
    "\n",
    "\n",
    "p = p1 + p2 + p3\n",
    "\n",
    "p"
   ]
  },
  {
   "cell_type": "markdown",
   "metadata": {},
   "source": [
    "На соревновании по биатлону один из трех спортсменов стреляет и попадает в мишень. Вероятность попадания для первого спортсмена равна 0.9, для второго — 0.8, для третьего — 0.6. Найти вероятность того, что выстрел произведен: a). первым спортсменом б). вторым спортсменом в). третьим спортсменом."
   ]
  },
  {
   "cell_type": "code",
   "execution_count": 32,
   "metadata": {},
   "outputs": [
    {
     "name": "stdout",
     "output_type": "stream",
     "text": [
      "1-й: 0.391304347826087 \n",
      "2-й: 0.3478260869565218 \n",
      "3-й: 0.2608695652173913\n"
     ]
    }
   ],
   "source": [
    "p1_probability = 0.9\n",
    "p2_probability = 0.8\n",
    "p3_probability = 0.6\n",
    "\n",
    "# вероятность на каждого спортсмена\n",
    "p_for_one_among_all = 1 / 3\n",
    "\n",
    "# вероятность что хотя- бы кто-то попал\n",
    "p_all = p_for_one_among_all * p1_probability + p_for_one_among_all * p2_probability + p_for_one_among_all * p3_probability\n",
    "\n",
    "# 1-й\n",
    "p1_popal = (p_for_one_among_all * p1_probability) / p_all\n",
    "\n",
    "# 2-й\n",
    "p2_popal = (p_for_one_among_all * p2_probability) / p_all\n",
    "\n",
    "# 3-й\n",
    "p3_popal = (p_for_one_among_all * p3_probability) / p_all\n",
    "\n",
    "print('1-й:',p1_popal, '\\n2-й:',p2_popal , '\\n3-й:',p3_popal)"
   ]
  },
  {
   "cell_type": "markdown",
   "metadata": {},
   "source": [
    "В университет на факультеты A и B поступило равное количество студентов, а на факультет C студентов поступило столько же, сколько на A и B вместе. Вероятность того, что студент факультета A сдаст первую сессию, равна 0.8. Для студента факультета B эта вероятность равна 0.7, а для студента факультета C - 0.9. Студент сдал первую сессию. Какова вероятность, что он учится: a). на факультете A б). на факультете B в). на факультете C?"
   ]
  },
  {
   "cell_type": "code",
   "execution_count": 38,
   "metadata": {},
   "outputs": [
    {
     "name": "stdout",
     "output_type": "stream",
     "text": [
      "0.24242424242424246 \n",
      " 0.21212121212121213 \n",
      " 0.5454545454545455\n"
     ]
    }
   ],
   "source": [
    "P = 1 / 4 * 0.8 + 1 / 4 * 0.7 + 2 / 4 * 0.9\n",
    "\n",
    "P_a = 1 / 4 * 0.8 / P\n",
    "P_b = 1 / 4 * 0.7 / P\n",
    "P_c = 2 / 4 * 0.9 / P\n",
    "\n",
    "print(P_a,'\\n',P_b,'\\n',P_c)"
   ]
  },
  {
   "cell_type": "markdown",
   "metadata": {},
   "source": [
    "Устройство состоит из трех деталей. Для первой детали вероятность выйти из строя в первый месяц равна 0.1, для второй - 0.2, для третьей - 0.25. Какова вероятность того, что в первый месяц выйдут из строя: а). все детали б). только две детали в). хотя бы одна деталь г). от одной до двух деталей?"
   ]
  },
  {
   "cell_type": "code",
   "execution_count": 39,
   "metadata": {},
   "outputs": [],
   "source": [
    "# вероятности выхода из строя в 1-й месяц\n",
    "p_1 = 0.1\n",
    "p_1_contrary = 1 - p_1\n",
    "p_2 = 0.2\n",
    "p_2_contrary = 1 - p_2\n",
    "p_3 = 0.25\n",
    "p_3_contrary = 1 - p_3\n",
    "\n",
    "#наоборот если не выйдут сразу все\n",
    "P_no_one = p_1_contrary*p_2_contrary*p_3_contrary\n",
    "\n",
    "#все детали\n",
    "P_all_at_once = p_1*p_2*p_3\n",
    "\n",
    "#вероятность того, что в первый месяц выйдут из строя только две детали\n",
    "P_two = p_1*p_2*p_3_contrary + p_1*p_2_contrary*p_3 + p_1_contrary*p_2*p_3"
   ]
  }
 ],
 "metadata": {
  "kernelspec": {
   "display_name": "Python 3",
   "language": "python",
   "name": "python3"
  },
  "language_info": {
   "codemirror_mode": {
    "name": "ipython",
    "version": 3
   },
   "file_extension": ".py",
   "mimetype": "text/x-python",
   "name": "python",
   "nbconvert_exporter": "python",
   "pygments_lexer": "ipython3",
   "version": "3.8.3"
  }
 },
 "nbformat": 4,
 "nbformat_minor": 4
}
